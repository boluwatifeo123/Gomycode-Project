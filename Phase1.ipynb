{
 "cells": [
  {
   "cell_type": "markdown",
   "id": "18e9d6f9-753b-49cb-87b0-49a0b0316760",
   "metadata": {},
   "source": [
    "## PHASE 1: Data Cleaning, Analysis, and Visualization"
   ]
  },
  {
   "cell_type": "markdown",
   "id": "a473b992-5459-4a79-b18f-1fe1a7dcc68a",
   "metadata": {},
   "source": [
    "### Step 1: Load the Data and Inspect It"
   ]
  },
  {
   "cell_type": "code",
   "execution_count": null,
   "id": "0d845c4c-1f76-4ea8-b333-c55f88b85271",
   "metadata": {},
   "outputs": [],
   "source": [
    "import pandas as pd\n",
    "\n",
    "# Load the dataset\n",
    "df = pd.read_csv(r\"C:\\Users\\boluw\\PYTHON\\GOMYCODE\\PROJECT\\london_merged.csv\")\n",
    "\n",
    "# View data types and check for nulls\n",
    "print(df.info())\n",
    "print(df.head())\n"
   ]
  },
  {
   "cell_type": "markdown",
   "id": "382cc11e-5f8b-4016-b944-260ab37f5f38",
   "metadata": {},
   "source": [
    "### Step 2: Check for Missing Values"
   ]
  },
  {
   "cell_type": "code",
   "execution_count": null,
   "id": "9c4fdc4c-3401-4fe5-8a9c-2a53c2680781",
   "metadata": {},
   "outputs": [],
   "source": [
    "# Count missing values\n",
    "print(df.isnull().sum())\n",
    "\n",
    "# Optionally drop or fill missing values if found\n",
    "df = df.dropna()  # or use df.fillna(method='ffill') for forward filling\n"
   ]
  },
  {
   "cell_type": "markdown",
   "id": "cc0b35b0-b463-4079-abe4-3c6b65f43c16",
   "metadata": {},
   "source": [
    "### Step 3: Convert timestamp to DateTime and Extract Features"
   ]
  },
  {
   "cell_type": "code",
   "execution_count": null,
   "id": "6fc39bed-f7b9-4b01-ae81-4bc92dd0b36f",
   "metadata": {},
   "outputs": [],
   "source": [
    "df['timestamp'] = pd.to_datetime(df['timestamp'])\n",
    "\n",
    "# Extract useful time-based features\n",
    "df['hour'] = df['timestamp'].dt.hour\n",
    "df['day'] = df['timestamp'].dt.day\n",
    "df['month'] = df['timestamp'].dt.month\n",
    "df['weekday'] = df['timestamp'].dt.weekday  # Monday = 0\n"
   ]
  },
  {
   "cell_type": "markdown",
   "id": "0b675edc-59b0-4fa0-a853-035fee681a04",
   "metadata": {},
   "source": [
    "### Step 4: Detect and Handle Outliers\n",
    "\n"
   ]
  },
  {
   "cell_type": "code",
   "execution_count": null,
   "id": "e1a54a22-a65d-4a7d-b8cc-39351cf003a4",
   "metadata": {},
   "outputs": [],
   "source": [
    "import seaborn as sns\n",
    "import matplotlib.pyplot as plt\n",
    "\n",
    "# Boxplot to detect outliers\n",
    "sns.boxplot(data=df[['cnt', 't1', 'hum', 'wind_speed']])\n",
    "plt.title(\"Boxplots of Numerical Columns\")\n",
    "plt.show()\n",
    "\n",
    "# Optionally, remove outliers using IQR\n",
    "Q1 = df['cnt'].quantile(0.25)\n",
    "Q3 = df['cnt'].quantile(0.75)\n",
    "IQR = Q3 - Q1\n",
    "\n",
    "df = df[(df['cnt'] >= Q1 - 1.5 * IQR) & (df['cnt'] <= Q3 + 1.5 * IQR)]\n"
   ]
  },
  {
   "cell_type": "markdown",
   "id": "dc7d1e25-f96a-47c6-9bdb-1506db1fd14b",
   "metadata": {},
   "source": [
    "### Step 5: Encode Categorical Features (if any)\n",
    "\n",
    "The dataset already encodes `season`, `is_holiday`, and `is_weekend` as numerics. If they were strings, you’d do:"
   ]
  },
  {
   "cell_type": "code",
   "execution_count": null,
   "id": "dc687ad9-1157-4942-b5cd-a0cc110bde6c",
   "metadata": {},
   "outputs": [],
   "source": [
    "# Example only if you had categorical strings\n",
    "df['season'] = df['season'].astype('category').cat.codes\n"
   ]
  },
  {
   "cell_type": "markdown",
   "id": "35d80924-5663-4ff4-a139-58e04fb7f2f1",
   "metadata": {},
   "source": [
    "### Step 6: Exploratory Data Analysis (EDA)"
   ]
  },
  {
   "cell_type": "code",
   "execution_count": null,
   "id": "5c8a256f-5834-493c-868c-ba575ab8a5cf",
   "metadata": {},
   "outputs": [],
   "source": [
    "# Demand by hour\n",
    "sns.lineplot(x='hour', y='cnt', data=df.groupby('hour').mean().reset_index())\n",
    "plt.title('Average Demand by Hour of Day')\n",
    "plt.show()\n",
    "\n",
    "# Demand by weekday\n",
    "sns.barplot(x='weekday', y='cnt', data=df.groupby('weekday').mean().reset_index())\n",
    "plt.title('Average Demand by Weekday')\n",
    "plt.show()\n",
    "\n",
    "# Demand by temperature\n",
    "sns.scatterplot(x='t1', y='cnt', data=df, alpha=0.3)\n",
    "plt.title('Demand vs Temperature')\n",
    "plt.show()\n",
    "\n",
    "# Correlation heatmap\n",
    "sns.heatmap(df[['cnt', 't1', 'hum', 'wind_speed', 'hour', 'weekday']].corr(), annot=True, cmap='coolwarm')\n",
    "plt.title(\"Correlation Heatmap\")\n",
    "plt.show()\n"
   ]
  },
  {
   "cell_type": "markdown",
   "id": "85408614-1c4a-46de-9f21-a2e38955dd36",
   "metadata": {},
   "source": [
    "## Summary of Insights (to document):\n",
    "- Peak demand occurs during morning and evening hours\n",
    "\n",
    "- Weekdays vs weekends have noticeable differences\n",
    "\n",
    "- Temperature and humidity moderately affect ride count\n",
    "\n",
    "- Strong correlation between `hour` and `cnt` (demand)"
   ]
  },
  {
   "cell_type": "code",
   "execution_count": null,
   "id": "656c203a-9cf7-4144-a900-412b2bd8d5b2",
   "metadata": {},
   "outputs": [],
   "source": []
  },
  {
   "cell_type": "code",
   "execution_count": null,
   "id": "9baa9f4a-d1ef-4fc4-b4a8-33a5e9bfeede",
   "metadata": {},
   "outputs": [],
   "source": []
  },
  {
   "cell_type": "code",
   "execution_count": null,
   "id": "8c6b61f4-c11e-4f69-90e0-ac2ab81680cf",
   "metadata": {},
   "outputs": [],
   "source": []
  }
 ],
 "metadata": {
  "kernelspec": {
   "display_name": "Python [conda env:base] *",
   "language": "python",
   "name": "conda-base-py"
  },
  "language_info": {
   "codemirror_mode": {
    "name": "ipython",
    "version": 3
   },
   "file_extension": ".py",
   "mimetype": "text/x-python",
   "name": "python",
   "nbconvert_exporter": "python",
   "pygments_lexer": "ipython3",
   "version": "3.12.7"
  }
 },
 "nbformat": 4,
 "nbformat_minor": 5
}
